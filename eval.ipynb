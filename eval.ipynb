{
 "cells": [
  {
   "cell_type": "markdown",
   "id": "b6965671-d849-46bb-9ff9-dcb05351d993",
   "metadata": {},
   "source": [
    "# 基于扩散模型的商品背景美化demo"
   ]
  },
  {
   "cell_type": "markdown",
   "id": "a3f416a9-d7da-4120-baba-c56274ad2fd4",
   "metadata": {},
   "source": [
    "### 一、环境准备"
   ]
  },
  {
   "cell_type": "code",
   "execution_count": null,
   "id": "1abcf197-b628-4326-8665-26352a1f608c",
   "metadata": {
    "tags": []
   },
   "outputs": [],
   "source": [
    "# 安装huggingface库以及第三方包\n",
    "!pip install diffusers\n",
    "!pip install transformers scipy ftfy accelerate\n",
    "!pip install onnxruntime-gpu\n",
    "\n",
    "# 解压模型权重\n",
    "!unzip /root/autodl-fs/epoch19.zip /root/autodl-tmp/\n",
    "!unzip /root/autodl-fs/reg.zip /root/autodl-tmp/"
   ]
  },
  {
   "cell_type": "code",
   "execution_count": null,
   "id": "a3dc1287-af01-427d-b870-314458432f40",
   "metadata": {
    "tags": []
   },
   "outputs": [],
   "source": [
    "from PIL import Image\n",
    "import torch\n",
    "from reg import get_img_mask\n",
    "from BGInpaintPipeline import BGInpaintPipeline"
   ]
  },
  {
   "cell_type": "markdown",
   "id": "56e77561-18b8-4f9e-b0cc-8d6b87ddf139",
   "metadata": {},
   "source": [
    "### 二、初始化模型管道"
   ]
  },
  {
   "cell_type": "code",
   "execution_count": null,
   "id": "0d42059d-59a1-46d1-b605-b3599bf9941b",
   "metadata": {},
   "outputs": [],
   "source": [
    "# load diffusion model weight file\n",
    "sd2_id = \"/root/autodl-tmp/epoch_19\"\n",
    "pipe = BGInpaintPipeline.from_pretrained(sd2_id, torch_dtype=torch.float16, device_map=\"auto\", safety_checker=None)"
   ]
  },
  {
   "cell_type": "markdown",
   "id": "ac215629-7572-4ca2-ab21-7ec643de37ff",
   "metadata": {},
   "source": [
    "### 三、定义处理函数"
   ]
  },
  {
   "cell_type": "code",
   "execution_count": null,
   "id": "d09f0661-27c6-4a36-bc8a-7493cdffacd4",
   "metadata": {},
   "outputs": [],
   "source": [
    "def resize_img_mask(img, mask, img_size=768):\n",
    "    w, h = img.size\n",
    "    if w>h:\n",
    "        radio = img_size/w\n",
    "    else:\n",
    "        radio = img_size/h\n",
    "\n",
    "    return img.resize((int(w*radio//8*8),int(h*radio//8*8)), Image.Resampling.BICUBIC), mask.resize((int(w*radio//8*8),int(h*radio//8*8)), Image.Resampling.BICUBIC)\n",
    "\n",
    "\n",
    "def gen_img(prompt, negative_prompt, num_inference_steps, strength, guidance_scale, img, mask):\n",
    "    img , mask = resize_img_mask(img, mask)\n",
    "    # height = h, width=w\n",
    "    w, h = img.size\n",
    "    image = pipe(prompt, img, mask,height = h, width=w, num_inference_steps=num_inference_steps, strength=strength,\n",
    "                   guidance_scale=guidance_scale,negative_prompt = negative_prompt).images[0]\n",
    "    return image, mask\n",
    "\n",
    "\n",
    "def processing_img(img, prompt, negative_prompt, num_inference_steps, guidance_scale, strength):\n",
    "    _, mask = get_img_mask(img)\n",
    "    img, mask = gen_img(prompt, negative_prompt, num_inference_steps, strength, guidance_scale, img, mask)\n",
    "    return img, mask"
   ]
  },
  {
   "cell_type": "markdown",
   "id": "0438bc32-efce-4a66-817c-53f25bdbfa47",
   "metadata": {},
   "source": [
    "### 四、定义参数"
   ]
  },
  {
   "cell_type": "code",
   "execution_count": null,
   "id": "d7fa1d10-1aca-459e-aa98-8c8572d229f1",
   "metadata": {},
   "outputs": [],
   "source": [
    "negative_prompt='face, human, badhand, worst quality, low quality, normal quality, lowres, bad anatomy, bad hands, normal quality, monochrome, grayscale watermark'\n",
    "num_inference_steps = 50\n",
    "guidance_scale = 7\n",
    "strength = 1"
   ]
  },
  {
   "cell_type": "code",
   "execution_count": null,
   "id": "e33964e3-7b16-4e2d-9939-8cd5ffbe9f53",
   "metadata": {},
   "outputs": [],
   "source": [
    "# example\n",
    "image = Image.open('./img_data/cup.jpg')\n",
    "image"
   ]
  },
  {
   "cell_type": "code",
   "execution_count": null,
   "id": "acd247ed-c173-4b00-8a67-c9e66cff0858",
   "metadata": {},
   "outputs": [],
   "source": [
    "prompt='window desk'\n",
    "img_after, mask = processing_img(image, prompt, negative_prompt, num_inference_steps, guidance_scale, strength)"
   ]
  },
  {
   "cell_type": "code",
   "execution_count": null,
   "id": "c9f4ce92-146c-4c49-b8d2-401a3538d0a6",
   "metadata": {},
   "outputs": [],
   "source": []
  }
 ],
 "metadata": {
  "kernelspec": {
   "display_name": "Python 3 (ipykernel)",
   "language": "python",
   "name": "python3"
  },
  "language_info": {
   "codemirror_mode": {
    "name": "ipython",
    "version": 3
   },
   "file_extension": ".py",
   "mimetype": "text/x-python",
   "name": "python",
   "nbconvert_exporter": "python",
   "pygments_lexer": "ipython3",
   "version": "3.8.10"
  }
 },
 "nbformat": 4,
 "nbformat_minor": 5
}
